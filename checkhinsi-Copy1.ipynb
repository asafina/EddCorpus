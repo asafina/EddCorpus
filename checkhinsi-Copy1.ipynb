{
 "cells": [
  {
   "cell_type": "code",
   "execution_count": 2,
   "metadata": {
    "collapsed": false
   },
   "outputs": [],
   "source": [
    "import sys\n",
    "import commands as cmd\n",
    "import MeCab \n",
    "\n",
    "m = MeCab.Tagger()\n",
    "o = MeCab.Tagger(\"-Owakati\")"
   ]
  },
  {
   "cell_type": "code",
   "execution_count": 3,
   "metadata": {
    "collapsed": false
   },
   "outputs": [],
   "source": [
    "def checkhinsi(line):\n",
    "    print \"-**************************************\"\n",
    "    print \"line: \" + line\n",
    "    \n",
    "    ### pline mecab による解析結果が入った str 型\n",
    "    pline = (m.parse(line))\n",
    "    ### pline 単語の解析結果を要素にもつ list 型に\n",
    "    pline2 = pline.split(\"\\n\")\n",
    "    ### wakati mecab による分かち書き形式に変換したline. str 型\n",
    "    wakati = o.parse(line)\n",
    "    ### words line を単語要素とした list 型\n",
    "    words = wakati.split(\" \")\n",
    "    \n",
    "    print \"num of words: \",\n",
    "    print len(words) - 1\n",
    "    \n",
    "    ### phrase 自立語と付属語をそれぞれ 1, 0 として line を表現\n",
    "    phrase = []\n",
    "    \n",
    "    for i in range(0,len(words)-1):\n",
    "        if \"名詞\" in pline2[i]:\n",
    "            print \"名詞: \" + words[i];\n",
    "            phrase.append(\"1\")\n",
    "        elif \"動詞\" in pline2[i]:\n",
    "            print \"動詞: \" + words[i];\n",
    "            phrase.append(\"1\")\n",
    "        elif \"形容詞\" in pline2[i]:\n",
    "            print \"形容詞: \" + words[i];\n",
    "            phrase.append(\"1\")\n",
    "        elif \"副詞\" in pline2[i]:\n",
    "            print \"副詞: \" + words[i];\n",
    "            phrase.append(\"1\")\n",
    "        elif \"助詞\" in pline2[i]:\n",
    "            print \"助詞: \" + words[i];\n",
    "            phrase.append(\"0\")\n",
    "        elif \"接続詞\" in pline2[i]:\n",
    "            print \"接続詞: \" + words[i];\n",
    "            phrase.append(\"1\")\n",
    "        elif \"助動詞\" in pline2[i]:\n",
    "            print \"助動詞: \" + words[i];\n",
    "            phrase.append(\"0\")\n",
    "        elif \"連体詞\" in pline2[i]:\n",
    "            print \"連体詞: \" + words[i];\n",
    "            phrase.append(\"1\")\n",
    "        elif \"感動詞\" in pline2[i]:\n",
    "            print \"感動詞: \" + words[i];\n",
    "            phrase.append(\"1\")\n",
    "        elif \"記号\" in pline2[i]:\n",
    "            print \"記号: \" + words[i];\n",
    "            phrase.append(\"1\")\n",
    "        else:\n",
    "            print \"未知語: \" + words[i];\n",
    "            phrase.append(\"2\")\n",
    "        #elif \"\" in pline:\n",
    "        #    print \": \" + line\n",
    "        \n",
    "    print ;\n",
    "    print phrase;\n",
    "    \n",
    "    split2phrase(words, phrase)\n",
    "    \n",
    "    #temp = cmd.getstatusoutput(\"cat \" + pline + \"| awk '{print $2}' | sed -e 's/,.*//g'\" )"
   ]
  },
  {
   "cell_type": "code",
   "execution_count": 4,
   "metadata": {
    "collapsed": false
   },
   "outputs": [],
   "source": [
    "def split2phrase(words, phrase):\n",
    "    frag = 0\n",
    "    for i in range(0, len(words)-1):\n",
    "        if (phrase[i] == \"1\"):\n",
    "            print \"/\" + words[i],\n",
    "        elif (phrase[i] == \"0\"):\n",
    "            print words[i],\n",
    "        elif (phrase[i] == \"2\"):\n",
    "            print \"/\" + words[i],\n",
    "            frag = 1\n",
    "    \n",
    "    print ;\n",
    "    print ;\n",
    "    if (frag == 1):\n",
    "        print \"未知語が含まれています\""
   ]
  },
  {
   "cell_type": "code",
   "execution_count": 5,
   "metadata": {
    "collapsed": false
   },
   "outputs": [
    {
     "name": "stdout",
     "output_type": "stream",
     "text": [
      "-**************************************\n",
      "line: 今は此のシラクスの市で、石工をしている。\n",
      "\n",
      "num of words:  16\n",
      "名詞: 今\n",
      "助詞: は\n",
      "名詞: 此\n",
      "助詞: の\n",
      "名詞: シラ\n",
      "名詞: クス\n",
      "助詞: の\n",
      "名詞: 市\n",
      "助詞: で\n",
      "記号: 、\n",
      "名詞: 石工\n",
      "助詞: を\n",
      "動詞: し\n",
      "助詞: て\n",
      "動詞: いる\n",
      "記号: 。\n",
      "\n",
      "['1', '0', '1', '0', '1', '1', '0', '1', '0', '1', '1', '0', '1', '0', '1', '1']\n",
      "/今 は /此 の /シラ /クス の /市 で /、 /石工 を /し て /いる /。\n",
      "\n",
      "-**************************************\n",
      "line: その友を、これから訪ねてみるつもりなのだ。\n",
      "\n",
      "num of words:  13\n",
      "連体詞: その\n",
      "名詞: 友\n",
      "助詞: を\n",
      "記号: 、\n",
      "副詞: これから\n",
      "動詞: 訪ね\n",
      "助詞: て\n",
      "動詞: みる\n",
      "名詞: つもり\n",
      "動詞: な\n",
      "名詞: の\n",
      "動詞: だ\n",
      "記号: 。\n",
      "\n",
      "['1', '1', '0', '1', '1', '1', '0', '1', '1', '1', '1', '1', '1']\n",
      "/その /友 を /、 /これから /訪ね て /みる /つもり /な /の /だ /。\n",
      "\n"
     ]
    }
   ],
   "source": [
    "f = open(\"/local/home/hina/NLP/eddoc/editdoc/Dazai_Osamu/hashire_merosu.txt.utf8.ped\", \"r\")\n",
    "for i in range(0,50):\n",
    "    line = f.readline()\n",
    "    if (len(line) >= 2 and i >47):\n",
    "        checkhinsi(line)"
   ]
  },
  {
   "cell_type": "code",
   "execution_count": null,
   "metadata": {
    "collapsed": true
   },
   "outputs": [],
   "source": []
  }
 ],
 "metadata": {
  "kernelspec": {
   "display_name": "Python 2",
   "language": "python",
   "name": "python2"
  },
  "language_info": {
   "codemirror_mode": {
    "name": "ipython",
    "version": 2
   },
   "file_extension": ".py",
   "mimetype": "text/x-python",
   "name": "python",
   "nbconvert_exporter": "python",
   "pygments_lexer": "ipython2",
   "version": "2.7.9"
  }
 },
 "nbformat": 4,
 "nbformat_minor": 0
}
