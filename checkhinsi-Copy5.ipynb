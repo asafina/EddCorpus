{
 "cells": [
  {
   "cell_type": "code",
   "execution_count": 2,
   "metadata": {
    "collapsed": false
   },
   "outputs": [],
   "source": [
    "# -*- coding: utf-8 -*-\n",
    "import sys\n",
    "import commands as cmd\n",
    "import MeCab \n",
    "\n",
    "m = MeCab.Tagger()\n",
    "o = MeCab.Tagger(\"-Owakati\")"
   ]
  },
  {
   "cell_type": "code",
   "execution_count": 19,
   "metadata": {
    "collapsed": false
   },
   "outputs": [],
   "source": [
    "def checkhinsi(line):\n",
    "    print \"-**************************************\"\n",
    "    print \"line: \" + line\n",
    "    \n",
    "    ### pline: mecab による解析結果が入った str 型\n",
    "    pline = (m.parse(line))\n",
    "    ### pline2: 単語の解析結果を要素にもつ list 型に\n",
    "    pline2 = pline.split(\"\\n\")\n",
    "    ### wakati: mecab による分かち書き形式に変換したline. str 型\n",
    "    wakati = o.parse(line)\n",
    "    ### words: line を単語要素とした list 型\n",
    "    words = wakati.split(\" \")\n",
    "    \n",
    "    print \"num of words: \",\n",
    "    print len(words) - 1\n",
    "    \n",
    "    ### phrase 自立語と付属語をそれぞれ 1, 0 として line を表現\n",
    "    phrase = []\n",
    "    \n",
    "    ### wID: 読み込んだ corpus での word が何列目に存在するかを格納したもの、 list型\n",
    "    wID = []\n",
    "    \n",
    "    for i in range(0,len(words)-1):\n",
    "        if \"名詞\" in pline2[i]:\n",
    "            print \"名詞: \" + words[i];\n",
    "            phrase.append(\"1\")\n",
    "            wID.append( searchwordID(words[i], \"名詞\") )\n",
    "        elif \"動詞\" in pline2[i]:\n",
    "            print \"動詞: \" + words[i];\n",
    "            phrase.append(\"1\")\n",
    "            wID.append( searchwordID(words[i], \"動詞\") )\n",
    "        elif \"形容詞\" in pline2[i]:\n",
    "            print \"形容詞: \" + words[i];\n",
    "            phrase.append(\"1\")\n",
    "            wID.append( searchwordID(words[i], \"形容詞\") )\n",
    "        elif \"副詞\" in pline2[i]:\n",
    "            print \"副詞: \" + words[i];\n",
    "            phrase.append(\"1\")\n",
    "            wID.append( searchwordID(words[i], \"副詞\") )\n",
    "        elif \"助詞\" in pline2[i]:\n",
    "            print \"助詞: \" + words[i];\n",
    "            phrase.append(\"0\")\n",
    "            wID.append( searchwordID(words[i], \"助詞\") )\n",
    "        elif \"接続詞\" in pline2[i]:\n",
    "            print \"接続詞: \" + words[i];\n",
    "            phrase.append(\"1\")\n",
    "            wID.append( searchwordID(words[i], \"接続詞\") )\n",
    "        elif \"助動詞\" in pline2[i]:\n",
    "            print \"助動詞: \" + words[i];\n",
    "            phrase.append(\"0\")\n",
    "            wID.append( searchwordID(words[i], \"助動詞\") )\n",
    "        elif \"連体詞\" in pline2[i]:\n",
    "            print \"連体詞: \" + words[i];\n",
    "            phrase.append(\"1\")\n",
    "            wID.append( searchwordID(words[i], \"連体詞\") )\n",
    "        elif \"感動詞\" in pline2[i]:\n",
    "            print \"感動詞: \" + words[i];\n",
    "            phrase.append(\"1\")\n",
    "            wID.append( searchwordID(words[i], \"感動詞\") )\n",
    "        elif \"記号\" in pline2[i]:\n",
    "            print \"記号: \" + words[i];\n",
    "            phrase.append(\"1\")\n",
    "            wID.append( searchwordID(words[i], \"記号\") )\n",
    "        else:\n",
    "            print \"未知語: \" + words[i];\n",
    "            phrase.append(\"2\")\n",
    "        #elif \"\" in pline:\n",
    "        #    print \": \" + line\n",
    "        \n",
    "    print ;\n",
    "    print phrase;\n",
    "    print wID;\n",
    "    \n",
    "    split2phrase(words, phrase)\n",
    "    \n",
    "    #temp = cmd.getstatusoutput(\"cat \" + pline + \"| awk '{print $2}' | sed -e 's/,.*//g'\" )"
   ]
  },
  {
   "cell_type": "code",
   "execution_count": 4,
   "metadata": {
    "collapsed": false
   },
   "outputs": [],
   "source": [
    "def split2phrase(words, phrase):\n",
    "    frag = 0\n",
    "    for i in range(0, len(words)-1):\n",
    "        if (phrase[i] == \"1\"):\n",
    "            print \"/\" + words[i],\n",
    "        elif (phrase[i] == \"0\"):\n",
    "            print words[i],\n",
    "        elif (phrase[i] == \"2\"):\n",
    "            print \"/\" + words[i],\n",
    "            frag = 1\n",
    "    \n",
    "    print ;\n",
    "    print ;\n",
    "    if (frag == 1):\n",
    "        print \"未知語が含まれています\""
   ]
  },
  {
   "cell_type": "code",
   "execution_count": 5,
   "metadata": {
    "collapsed": true
   },
   "outputs": [],
   "source": [
    "def conv2wakati(line):\n",
    "    ### wakati: mecab による分かち書き形式に変換したline. str 型\n",
    "    wakati = o.parse(line)\n",
    "    return wakati"
   ]
  },
  {
   "cell_type": "code",
   "execution_count": 21,
   "metadata": {
    "collapsed": false
   },
   "outputs": [],
   "source": [
    "def getcorpus():\n",
    "    c = []\n",
    "    f = open(\"/local/home/hina/gitrepos/EddCorpus/Dazai_Osamu/wakati/mecab/Dazai_Osamu.corpus.uniq.org\", \"r\")\n",
    "    flen = len( f.readlines() )\n",
    "    f.close()\n",
    "    f = open(\"/local/home/hina/gitrepos/EddCorpus/Dazai_Osamu/wakati/mecab/Dazai_Osamu.corpus.uniq.org\", \"r\")\n",
    "    for i in range(1, flen):\n",
    "        a = f.readline()\n",
    "        b = a.split(\" \")\n",
    "        while b.count('') > 0:\n",
    "            b.remove('')\n",
    "        c.append(b)\n",
    "    f.close()\n",
    "    return c"
   ]
  },
  {
   "cell_type": "code",
   "execution_count": 17,
   "metadata": {
    "collapsed": false
   },
   "outputs": [],
   "source": [
    "def searchwordID(word, hinnsi):\n",
    "    corpus = getcorpus()\n",
    "    lines = len(corpus)\n",
    "    wtmp = word.decode(\"utf-8\")\n",
    "    htmp = hinnsi.decode(\"utf-8\")\n",
    "    count = 1\n",
    "    flag = False\n",
    "    for line in corpus:\n",
    "        for a in line:\n",
    "            atmp = a.decode(\"utf-8\")\n",
    "            if atmp.startswith(wtmp):\n",
    "                if atmp.find(htmp):\n",
    "                    print \"hit!\"\n",
    "                    return count\n",
    "                    flag = True\n",
    "                    break\n",
    "        if flag:\n",
    "            break\n",
    "        count += 1"
   ]
  },
  {
   "cell_type": "code",
   "execution_count": 22,
   "metadata": {
    "collapsed": false,
    "scrolled": false
   },
   "outputs": [
    {
     "name": "stdout",
     "output_type": "stream",
     "text": [
      "-**************************************\n",
      "line: 今は此のシラクスの市で、石工をしている。\n",
      "\n",
      "num of words:  16\n",
      "名詞: 今\n",
      "hit!\n",
      "助詞: は\n",
      "hit!\n",
      "名詞: 此\n",
      "hit!\n",
      "助詞: の\n",
      "hit!\n",
      "名詞: シラ\n",
      "hit!\n",
      "名詞: クス\n",
      "hit!\n",
      "助詞: の\n",
      "hit!\n",
      "名詞: 市\n",
      "hit!\n",
      "助詞: で\n",
      "hit!\n",
      "記号: 、\n",
      "hit!\n",
      "名詞: 石工\n",
      "hit!\n",
      "助詞: を\n",
      "hit!\n",
      "動詞: し\n",
      "hit!\n",
      "助詞: て\n",
      "hit!\n",
      "動詞: いる\n",
      "hit!\n",
      "記号: 。\n",
      "hit!\n",
      "\n",
      "['1', '0', '1', '0', '1', '1', '0', '1', '0', '1', '1', '0', '1', '0', '1', '1']\n",
      "[18829, 6609, 18804, 6488, 10161, 9871, 6488, 19810, 5600, 473, 24487, 9340, 3784, 5526, 1354, 474]\n",
      "/今 は /此 の /シラ /クス の /市 で /、 /石工 を /し て /いる /。\n",
      "\n",
      "-**************************************\n",
      "line: その友を、これから訪ねてみるつもりなのだ。\n",
      "\n",
      "num of words:  13\n",
      "連体詞: その\n",
      "hit!\n",
      "名詞: 友\n",
      "hit!\n",
      "助詞: を\n",
      "hit!\n",
      "記号: 、\n",
      "hit!\n",
      "副詞: これから\n",
      "hit!\n",
      "動詞: 訪ね\n",
      "hit!\n",
      "助詞: て\n",
      "hit!\n",
      "動詞: みる\n",
      "hit!\n",
      "名詞: つもり\n",
      "hit!\n",
      "動詞: な\n",
      "hit!\n",
      "名詞: の\n",
      "hit!\n",
      "動詞: だ\n",
      "hit!\n",
      "記号: 。\n",
      "hit!\n",
      "\n",
      "['1', '1', '0', '1', '1', '1', '0', '1', '1', '1', '1', '1', '1']\n",
      "[4528, 33279, 9340, 473, 3362, 31974, 5526, 8261, 5410, 6015, 6488, 4958, 474]\n",
      "/その /友 を /、 /これから /訪ね て /みる /つもり /な /の /だ /。\n",
      "\n"
     ]
    }
   ],
   "source": [
    "f = open(\"/local/home/hina/NLP/eddoc/editdoc/Dazai_Osamu/hashire_merosu.txt.utf8.ped\", \"r\")\n",
    "for i in range(0,50):\n",
    "    line = f.readline()\n",
    "    if (len(line) >= 2 and i >47):\n",
    "        checkhinsi(line)"
   ]
  },
  {
   "cell_type": "code",
   "execution_count": null,
   "metadata": {
    "collapsed": true
   },
   "outputs": [],
   "source": [
    "def makewakati(fnamer, fnamew):\n",
    "    f = open(\"fnamer\", \"r\")\n",
    "    out = open(\"./wakati/fnamew\", \"w\")\n",
    "\n",
    "    for i in range(0,680):\n",
    "        line = f.readline()\n",
    "        if (len(line) >= 2):\n",
    "            temp = conv2wakati(line)\n",
    "            print i,\n",
    "            print temp;\n",
    "            out.write(temp)\n",
    "\n",
    "    ### close() をしないと書き込みが正常に終了しない！        \n",
    "    out.close()"
   ]
  },
  {
   "cell_type": "code",
   "execution_count": null,
   "metadata": {
    "collapsed": true
   },
   "outputs": [],
   "source": []
  }
 ],
 "metadata": {
  "kernelspec": {
   "display_name": "Python 2",
   "language": "python",
   "name": "python2"
  },
  "language_info": {
   "codemirror_mode": {
    "name": "ipython",
    "version": 2
   },
   "file_extension": ".py",
   "mimetype": "text/x-python",
   "name": "python",
   "nbconvert_exporter": "python",
   "pygments_lexer": "ipython2",
   "version": "2.7.9"
  }
 },
 "nbformat": 4,
 "nbformat_minor": 0
}
