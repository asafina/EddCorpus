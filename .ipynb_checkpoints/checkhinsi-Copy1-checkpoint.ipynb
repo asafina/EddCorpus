{
 "cells": [
  {
   "cell_type": "code",
   "execution_count": 6,
   "metadata": {
    "collapsed": false
   },
   "outputs": [],
   "source": [
    "import sys\n",
    "import commands as cmd\n",
    "import MeCab \n",
    "\n",
    "m = MeCab.Tagger()\n",
    "o = MeCab.Tagger(\"-Owakati\")"
   ]
  },
  {
   "cell_type": "code",
   "execution_count": 7,
   "metadata": {
    "collapsed": false
   },
   "outputs": [],
   "source": [
    "def checkhinsi(line):\n",
    "    print \"-**************************************\"\n",
    "    print \"line: \" + line\n",
    "    \n",
    "    ### pline mecab による解析結果が入った str 型\n",
    "    pline = (m.parse(line))\n",
    "    ### pline 単語の解析結果を要素にもつ list 型に\n",
    "    pline2 = pline.split(\"\\n\")\n",
    "    ### wakati mecab による分かち書き形式に変換したline. str 型\n",
    "    wakati = o.parse(line)\n",
    "    ### words line を単語要素とした list 型\n",
    "    words = wakati.split(\" \")\n",
    "    \n",
    "    print \"num of words: \",\n",
    "    print len(words) - 1\n",
    "    \n",
    "    ### phrase 自立語と付属語をそれぞれ 1, 0 として line を表現\n",
    "    phrase = []\n",
    "    \n",
    "    for i in range(0,len(words)-1):\n",
    "        if \"名詞\" in pline2[i]:\n",
    "            print \"名詞: \" + words[i];\n",
    "            phrase.append(\"1\")\n",
    "        elif \"動詞\" in pline2[i]:\n",
    "            print \"動詞: \" + words[i];\n",
    "            phrase.append(\"1\")\n",
    "        elif \"形容詞\" in pline2[i]:\n",
    "            print \"形容詞: \" + words[i];\n",
    "            phrase.append(\"1\")\n",
    "        elif \"副詞\" in pline2[i]:\n",
    "            print \"副詞: \" + words[i];\n",
    "            phrase.append(\"1\")\n",
    "        elif \"助詞\" in pline2[i]:\n",
    "            print \"助詞: \" + words[i];\n",
    "            phrase.append(\"0\")\n",
    "        elif \"接続詞\" in pline2[i]:\n",
    "            print \"接続詞: \" + words[i];\n",
    "            phrase.append(\"1\")\n",
    "        elif \"助動詞\" in pline2[i]:\n",
    "            print \"助動詞: \" + words[i];\n",
    "            phrase.append(\"0\")\n",
    "        elif \"連体詞\" in pline2[i]:\n",
    "            print \"連体詞: \" + words[i];\n",
    "            phrase.append(\"1\")\n",
    "        elif \"感動詞\" in pline2[i]:\n",
    "            print \"感動詞: \" + words[i];\n",
    "            phrase.append(\"1\")\n",
    "        elif \"記号\" in pline2[i]:\n",
    "            print \"記号: \" + words[i];\n",
    "            phrase.append(\"1\")\n",
    "        else:\n",
    "            print \"未知語: \" + words[i];\n",
    "            phrase.append(\"2\")\n",
    "        #elif \"\" in pline:\n",
    "        #    print \": \" + line\n",
    "        \n",
    "    print ;\n",
    "    print phrase;\n",
    "    \n",
    "    split2phrase(words, phrase)\n",
    "    \n",
    "    #temp = cmd.getstatusoutput(\"cat \" + pline + \"| awk '{print $2}' | sed -e 's/,.*//g'\" )"
   ]
  },
  {
   "cell_type": "code",
   "execution_count": 20,
   "metadata": {
    "collapsed": false
   },
   "outputs": [],
   "source": [
    "def split2phrase(words, phrase):\n",
    "    for i in range(0, len(words)-1):\n",
    "        if (phrase[i] == \"1\"):\n",
    "            print \"/\" + words[i],\n",
    "        elif (phrase[i] == \"0\"):\n",
    "            print words[i],\n",
    "        elif (phrase[i] == \"2\"):\n",
    "            print \"/\" + words[i],\n",
    "            frag = 1\n",
    "    \n",
    "    print ;\n",
    "    print ;\n",
    "    if (frag == 1):\n",
    "        print \"未知語が含まれています\""
   ]
  },
  {
   "cell_type": "code",
   "execution_count": 21,
   "metadata": {
    "collapsed": false
   },
   "outputs": [
    {
     "name": "stdout",
     "output_type": "stream",
     "text": [
      "-**************************************\n",
      "line: 今は此のシラクスの市で、石工をしている。\n",
      "\n",
      "num of words:  16\n",
      "名詞: 今\n",
      "助詞: は\n",
      "名詞: 此\n",
      "助詞: の\n",
      "名詞: シラ\n",
      "名詞: クス\n",
      "助詞: の\n",
      "名詞: 市\n",
      "助詞: で\n",
      "記号: 、\n",
      "名詞: 石工\n",
      "助詞: を\n",
      "動詞: し\n",
      "助詞: て\n",
      "動詞: いる\n",
      "記号: 。\n",
      "\n",
      "['1', '0', '1', '0', '1', '1', '0', '1', '0', '1', '1', '0', '1', '0', '1', '1']\n",
      "/今 は /此 の /シラ /クス の /市 で /、 /石工 を /し て /いる /。\n",
      "\n"
     ]
    },
    {
     "ename": "UnboundLocalError",
     "evalue": "local variable 'frag' referenced before assignment",
     "output_type": "error",
     "traceback": [
      "\u001b[0;31m---------------------------------------------------------------------------\u001b[0m",
      "\u001b[0;31mUnboundLocalError\u001b[0m                         Traceback (most recent call last)",
      "\u001b[0;32m<ipython-input-21-9e5f27ff9b29>\u001b[0m in \u001b[0;36m<module>\u001b[0;34m()\u001b[0m\n\u001b[1;32m      3\u001b[0m     \u001b[0mline\u001b[0m \u001b[0;34m=\u001b[0m \u001b[0mf\u001b[0m\u001b[0;34m.\u001b[0m\u001b[0mreadline\u001b[0m\u001b[0;34m(\u001b[0m\u001b[0;34m)\u001b[0m\u001b[0;34m\u001b[0m\u001b[0m\n\u001b[1;32m      4\u001b[0m     \u001b[0;32mif\u001b[0m \u001b[0;34m(\u001b[0m\u001b[0mlen\u001b[0m\u001b[0;34m(\u001b[0m\u001b[0mline\u001b[0m\u001b[0;34m)\u001b[0m \u001b[0;34m>=\u001b[0m \u001b[0;36m2\u001b[0m \u001b[0;32mand\u001b[0m \u001b[0mi\u001b[0m \u001b[0;34m>\u001b[0m\u001b[0;36m47\u001b[0m\u001b[0;34m)\u001b[0m\u001b[0;34m:\u001b[0m\u001b[0;34m\u001b[0m\u001b[0m\n\u001b[0;32m----> 5\u001b[0;31m         \u001b[0mcheckhinsi\u001b[0m\u001b[0;34m(\u001b[0m\u001b[0mline\u001b[0m\u001b[0;34m)\u001b[0m\u001b[0;34m\u001b[0m\u001b[0m\n\u001b[0m",
      "\u001b[0;32m<ipython-input-7-c293b77d072d>\u001b[0m in \u001b[0;36mcheckhinsi\u001b[0;34m(line)\u001b[0m\n\u001b[1;32m     58\u001b[0m     \u001b[0;32mprint\u001b[0m \u001b[0mphrase\u001b[0m\u001b[0;34m;\u001b[0m\u001b[0;34m\u001b[0m\u001b[0m\n\u001b[1;32m     59\u001b[0m \u001b[0;34m\u001b[0m\u001b[0m\n\u001b[0;32m---> 60\u001b[0;31m     \u001b[0msplit2phrase\u001b[0m\u001b[0;34m(\u001b[0m\u001b[0mwords\u001b[0m\u001b[0;34m,\u001b[0m \u001b[0mphrase\u001b[0m\u001b[0;34m)\u001b[0m\u001b[0;34m\u001b[0m\u001b[0m\n\u001b[0m\u001b[1;32m     61\u001b[0m \u001b[0;34m\u001b[0m\u001b[0m\n\u001b[1;32m     62\u001b[0m     \u001b[0;31m#temp = cmd.getstatusoutput(\"cat \" + pline + \"| awk '{print $2}' | sed -e 's/,.*//g'\" )\u001b[0m\u001b[0;34m\u001b[0m\u001b[0;34m\u001b[0m\u001b[0m\n",
      "\u001b[0;32m<ipython-input-20-4ffc00262ff9>\u001b[0m in \u001b[0;36msplit2phrase\u001b[0;34m(words, phrase)\u001b[0m\n\u001b[1;32m     11\u001b[0m     \u001b[0;32mprint\u001b[0m \u001b[0;34m;\u001b[0m\u001b[0;34m\u001b[0m\u001b[0m\n\u001b[1;32m     12\u001b[0m     \u001b[0;32mprint\u001b[0m \u001b[0;34m;\u001b[0m\u001b[0;34m\u001b[0m\u001b[0m\n\u001b[0;32m---> 13\u001b[0;31m     \u001b[0;32mif\u001b[0m \u001b[0;34m(\u001b[0m\u001b[0mfrag\u001b[0m \u001b[0;34m==\u001b[0m \u001b[0;36m1\u001b[0m\u001b[0;34m)\u001b[0m\u001b[0;34m:\u001b[0m\u001b[0;34m\u001b[0m\u001b[0m\n\u001b[0m\u001b[1;32m     14\u001b[0m         \u001b[0;32mprint\u001b[0m \u001b[0;34m\"未知語が含まれています\"\u001b[0m\u001b[0;34m\u001b[0m\u001b[0m\n",
      "\u001b[0;31mUnboundLocalError\u001b[0m: local variable 'frag' referenced before assignment"
     ]
    }
   ],
   "source": [
    "f = open(\"/local/home/hina/NLP/eddoc/editdoc/Dazai_Osamu/hashire_merosu.txt.utf8.ped\", \"r\")\n",
    "for i in range(0,50):\n",
    "    line = f.readline()\n",
    "    if (len(line) >= 2 and i >47):\n",
    "        checkhinsi(line)"
   ]
  },
  {
   "cell_type": "code",
   "execution_count": null,
   "metadata": {
    "collapsed": true
   },
   "outputs": [],
   "source": []
  }
 ],
 "metadata": {
  "kernelspec": {
   "display_name": "Python 2",
   "language": "python",
   "name": "python2"
  },
  "language_info": {
   "codemirror_mode": {
    "name": "ipython",
    "version": 2
   },
   "file_extension": ".py",
   "mimetype": "text/x-python",
   "name": "python",
   "nbconvert_exporter": "python",
   "pygments_lexer": "ipython2",
   "version": "2.7.9"
  }
 },
 "nbformat": 4,
 "nbformat_minor": 0
}
