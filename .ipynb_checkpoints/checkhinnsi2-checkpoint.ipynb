{
 "cells": [
  {
   "cell_type": "code",
   "execution_count": null,
   "metadata": {
    "collapsed": true
   },
   "outputs": [],
   "source": [
    "def test(wID, phrase):\n",
    "    a = []\n",
    "    c = []\n",
    "    i = 0\n",
    "    index = 0\n",
    "    while i <= len(phrase):\n",
    "        print \"phrase: \",\n",
    "        print phrase\n",
    "        b = []\n",
    "        frag = 0\n",
    "        ii = 0\n",
    "        for x in range(0, len(phrase[i])-1 ):\n",
    "            print \"x: \",\n",
    "            print x\n",
    "            if x == \"1\":\n",
    "                if flag == \"0\":\n",
    "                    b.append(wID[ii])\n",
    "                    ii += 1\n",
    "                    flag += 1\n",
    "                    continue\n",
    "                c.insert(index, b)\n",
    "                b =[]\n",
    "                index += 1\n",
    "                b.append(wID[ii])\n",
    "                ii += 1\n",
    "            if x == \"0\":\n",
    "                b.append(wID[ii])\n",
    "                ii += 1\n",
    "            if x == \"2\":\n",
    "                b.append(\"0\")\n",
    "                ii += 1\n",
    "        i += 1\n",
    "    return  c"
   ]
  },
  {
   "cell_type": "code",
   "execution_count": null,
   "metadata": {
    "collapsed": true
   },
   "outputs": [],
   "source": [
    "def test1(obj):\n",
    "    ite = 0\n",
    "    for x in obj:\n",
    "        print ite,\n",
    "        print type(x),\n",
    "        print x\n",
    "        ite += 1"
   ]
  },
  {
   "cell_type": "code",
   "execution_count": null,
   "metadata": {
    "collapsed": true
   },
   "outputs": [],
   "source": [
    "def splitwID2phrase(wID, phrase):\n",
    "    frag = 0\n",
    "    for i in range(0, len(words)-1):\n",
    "        if (phrase[i] == \"1\"):\n",
    "            print \"/\" + words[i],\n",
    "        elif (phrase[i] == \"0\"):\n",
    "            print words[i],\n",
    "        elif (phrase[i] == \"2\"):\n",
    "            print \"/\" + words[i],\n",
    "            frag = 1\n",
    "    \n",
    "    print ;\n",
    "    print ;\n",
    "    if (frag == 1):\n",
    "        print \"未知語が含まれています\""
   ]
  },
  {
   "cell_type": "code",
   "execution_count": null,
   "metadata": {
    "collapsed": true
   },
   "outputs": [],
   "source": [
    "def rmnewline(lst):\n",
    "    a = []\n",
    "    for x in lst:\n",
    "        tmp = x.strip()\n",
    "        tmp = tmp.strip(\"[\")\n",
    "        a.append( tmp.strip(\"]\") )\n",
    "    return a"
   ]
  },
  {
   "cell_type": "code",
   "execution_count": null,
   "metadata": {
    "collapsed": true
   },
   "outputs": [],
   "source": [
    "def wIDproc(lst):\n",
    "    a = []\n",
    "    for x in lst:\n",
    "        b = x.split(\", \")\n",
    "        a.append(b)\n",
    "    return a"
   ]
  },
  {
   "cell_type": "code",
   "execution_count": null,
   "metadata": {
    "collapsed": true
   },
   "outputs": [],
   "source": [
    "def phraseproc(lst):\n",
    "    c = []\n",
    "    ite = 0\n",
    "    for k in lst:\n",
    "        a = list(k)\n",
    "        b = []\n",
    "        for x in a:\n",
    "                if x == \"1\":\n",
    "                    b.append(\"1\")\n",
    "                elif x == \"0\":\n",
    "                    b.append(\"0\")\n",
    "        c.insert(ite, b)\n",
    "        ite += 1\n",
    "    return c"
   ]
  },
  {
   "cell_type": "code",
   "execution_count": null,
   "metadata": {
    "collapsed": true
   },
   "outputs": [],
   "source": [
    "def createonehotvec(lst, voc, typ):\n",
    "    #a = np.zeros( (1, voc) )\n",
    "    if typ == \"phrase\":\n",
    "        a = phraseproc(lst)\n",
    "        #a = rmnewline(a)\n",
    "        a = np.array(a)\n",
    "        return a\n",
    "    if typ == \"wID\":\n",
    "        a = rmnewline(lst)\n",
    "        a = wIDproc(a)\n",
    "        a = np.array(a)\n",
    "        return a"
   ]
  },
  {
   "cell_type": "code",
   "execution_count": null,
   "metadata": {
    "collapsed": true
   },
   "outputs": [],
   "source": [
    "def readfile(fname, opt, typ):\n",
    "    flag = 0\n",
    "    if opt == \"lines\":\n",
    "        if typ == \"phrase\":\n",
    "            f = open(fname, \"r\")\n",
    "            a = createonehotvec(f.readlines(), 35854, typ)\n",
    "            f.close()\n",
    "            return a\n",
    "    \n",
    "        f = open(fname, \"r\")\n",
    "        a = createonehotvec(f.readlines(), 35854, typ)\n",
    "        f.close()\n",
    "        return a\n",
    "    \n",
    "    elif opt == \"line\":\n",
    "        f = open(fname, \"r\")\n",
    "        flen = len(f.readlines())\n",
    "        f.close()\n",
    "        f = open(fname, \"r\")\n",
    "        for i in range(1, flen):\n",
    "            if flag ==0:\n",
    "                a = f.readline()\n",
    "                b = createonehotvec(a, 35854, typ)\n",
    "                flag += 1\n",
    "            a = f.readline()\n",
    "            b.append( createonehotvec(a, 35854, typ) )\n",
    "        f.close()\n",
    "        return b"
   ]
  }
 ],
 "metadata": {
  "kernelspec": {
   "display_name": "Python 2",
   "language": "python",
   "name": "python2"
  },
  "language_info": {
   "codemirror_mode": {
    "name": "ipython",
    "version": 2
   },
   "file_extension": ".py",
   "mimetype": "text/x-python",
   "name": "python",
   "nbconvert_exporter": "python",
   "pygments_lexer": "ipython2",
   "version": "2.7.9"
  }
 },
 "nbformat": 4,
 "nbformat_minor": 0
}
