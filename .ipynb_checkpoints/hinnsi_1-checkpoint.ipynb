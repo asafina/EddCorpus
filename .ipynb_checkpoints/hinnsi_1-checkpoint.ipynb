{
 "cells": [
  {
   "cell_type": "code",
   "execution_count": 52,
   "metadata": {
    "collapsed": false
   },
   "outputs": [],
   "source": [
    "# -*- coding: utf-8 -*-\n",
    "\n",
    "import sys\n",
    "import commands as cmd\n",
    "import codecs\n",
    "\n",
    "reload(sys)\n",
    "sys.setdefaultencoding(\"utf-8\")\n",
    "print \"defaultencoding:\", sys.getdefaultencoding()"
   ]
  },
  {
   "cell_type": "code",
   "execution_count": 53,
   "metadata": {
    "collapsed": false
   },
   "outputs": [],
   "source": [
    "def hinsi(obj):\n",
    "    temp1 = cmd.getstatusoutput(\"cat \" + obj + \"| awk '{print $2}' | sed -e 's/,.*//g'\" )\n",
    "    for a in temp1:\n",
    "        print a\n",
    "    \n",
    "    temp2 = cmd.getstatusoutput(\"cat \" + obj + \"| awk '{print $1}'\")\n",
    "    for a in temp2:\n",
    "        print a\n",
    "    \n",
    "    f1 = open(\"./test1.dat\", \"w\")\n",
    "    f1.write(str(temp1))"
   ]
  },
  {
   "cell_type": "code",
   "execution_count": 54,
   "metadata": {
    "collapsed": false
   },
   "outputs": [],
   "source": [
    "open_file = open(\"./resultmecab/test.txt/0001.dat\", \"r\")\n",
    "\n",
    "for a in open_file:\n",
    "    print a"
   ]
  },
  {
   "cell_type": "code",
   "execution_count": 55,
   "metadata": {
    "collapsed": false
   },
   "outputs": [],
   "source": [
    "hinsi(\"./resultmecab/test.txt/0001.dat\")"
   ]
  },
  {
   "cell_type": "code",
   "execution_count": 56,
   "metadata": {
    "collapsed": false
   },
   "outputs": [],
   "source": [
    "f = open(\"./test1.dat\", \"r\")\n",
    "for a in f:\n",
    "    print a"
   ]
  },
  {
   "cell_type": "code",
   "execution_count": null,
   "metadata": {
    "collapsed": true
   },
   "outputs": [],
   "source": []
  }
 ],
 "metadata": {
  "kernelspec": {
   "display_name": "Python 2",
   "language": "python",
   "name": "python2"
  },
  "language_info": {
   "codemirror_mode": {
    "name": "ipython",
    "version": 2
   },
   "file_extension": ".py",
   "mimetype": "text/x-python",
   "name": "python",
   "nbconvert_exporter": "python",
   "pygments_lexer": "ipython2",
   "version": "2.7.9"
  }
 },
 "nbformat": 4,
 "nbformat_minor": 0
}
