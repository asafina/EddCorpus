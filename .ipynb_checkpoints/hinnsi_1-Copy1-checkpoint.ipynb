{
 "cells": [
  {
   "cell_type": "code",
   "execution_count": 47,
   "metadata": {
    "collapsed": false
   },
   "outputs": [],
   "source": [
    "# -*- coding: utf-8 -*-\n",
    "\n",
    "import sys\n",
    "import commands as cmd\n",
    "import codecs\n",
    "\n",
    "# 標準入力の文字コードを印字する．\n",
    "print 'sys.stdin.encoding:', sys.stdin.encoding\n",
    "# 標準出力の文字コードを印字する．\n",
    "print 'sys.stdout.encoding:', sys.stdout.encoding\n",
    "# 標準エラー出力の文字コードを印字する．\n",
    "print 'sys.stderr.encoding:', sys.stderr.encoding\n",
    "\n"
   ]
  },
  {
   "cell_type": "code",
   "execution_count": 52,
   "metadata": {
    "collapsed": false
   },
   "outputs": [],
   "source": [
    "def hinsi(obj):\n",
    "    temp1 = cmd.getstatusoutput(\"cat \" + obj + \"| awk '{print $2}' | sed -e 's/,.*//g'\" )\n",
    "    for a in temp1:\n",
    "        print \"start\"\n",
    "        alter = a\n",
    "        print type(alter)\n",
    "        print alter.encode('utf-8')\n",
    "        print \"end\"\n",
    "        temp1a = alter\n",
    "\n",
    "    temp2 = cmd.getstatusoutput(\"cat \" + obj + \"| awk '{print $1}'\")\n",
    "    for a in temp2:\n",
    "        print \"start\"\n",
    "        alter = a\n",
    "        print alter\n",
    "        print \"end\"\n",
    "        temp2a = a\n",
    "    \n",
    "    ### temp1a の型：str\n",
    "    for index, a in enumerate(temp1a):\n",
    "        print a.encode(\"utf-8\")\n",
    "        if (a == \"名詞\"):\n",
    "            print temp2a[index] + \"is: \" + a\n",
    "    \n",
    "    \n",
    "    \n",
    "\n",
    "    \n",
    "    f1 = open(\"./test1.dat\", \"w\")\n",
    "    f1.write(str(temp1))"
   ]
  },
  {
   "cell_type": "code",
   "execution_count": 5,
   "metadata": {
    "collapsed": false
   },
   "outputs": [
    {
     "name": "stdout",
     "output_type": "stream",
     "text": [
      "コーパス\t名詞,一般,*,*,*,*,コーパス,コーパス,コーパス\n",
      "\n",
      "を\t助詞,格助詞,一般,*,*,*,を,ヲ,ヲ\n",
      "\n",
      "品詞\t名詞,一般,*,*,*,*,品詞,ヒンシ,ヒンシ\n",
      "\n",
      "ラベル\t名詞,一般,*,*,*,*,ラベル,ラベル,ラベル\n",
      "\n",
      "付き\t名詞,接尾,一般,*,*,*,付き,ツキ,ツキ\n",
      "\n",
      "データ\t名詞,一般,*,*,*,*,データ,データ,データ\n",
      "\n",
      "に\t助詞,格助詞,一般,*,*,*,に,ニ,ニ\n",
      "\n",
      "EOS\n",
      "\n"
     ]
    }
   ],
   "source": [
    "open_file = open(\"./resultmecab/test.txt/0001.dat\", \"r\")\n",
    "\n",
    "for a in open_file:\n",
    "    print a"
   ]
  },
  {
   "cell_type": "code",
   "execution_count": 53,
   "metadata": {
    "collapsed": false
   },
   "outputs": [
    {
     "name": "stdout",
     "output_type": "stream",
     "text": [
      "start\n",
      "<type 'int'>\n"
     ]
    },
    {
     "ename": "AttributeError",
     "evalue": "'int' object has no attribute 'encode'",
     "output_type": "error",
     "traceback": [
      "\u001b[0;31m---------------------------------------------------------------------------\u001b[0m",
      "\u001b[0;31mAttributeError\u001b[0m                            Traceback (most recent call last)",
      "\u001b[0;32m<ipython-input-53-967f311277a9>\u001b[0m in \u001b[0;36m<module>\u001b[0;34m()\u001b[0m\n\u001b[0;32m----> 1\u001b[0;31m \u001b[0mhinsi\u001b[0m\u001b[0;34m(\u001b[0m\u001b[0;34m\"./resultmecab/test.txt/0001.dat\"\u001b[0m\u001b[0;34m)\u001b[0m\u001b[0;34m\u001b[0m\u001b[0m\n\u001b[0m",
      "\u001b[0;32m<ipython-input-52-4abbd9680e71>\u001b[0m in \u001b[0;36mhinsi\u001b[0;34m(obj)\u001b[0m\n\u001b[1;32m      5\u001b[0m         \u001b[0malter\u001b[0m \u001b[0;34m=\u001b[0m \u001b[0ma\u001b[0m\u001b[0;34m\u001b[0m\u001b[0m\n\u001b[1;32m      6\u001b[0m         \u001b[0;32mprint\u001b[0m \u001b[0mtype\u001b[0m\u001b[0;34m(\u001b[0m\u001b[0malter\u001b[0m\u001b[0;34m)\u001b[0m\u001b[0;34m\u001b[0m\u001b[0m\n\u001b[0;32m----> 7\u001b[0;31m         \u001b[0;32mprint\u001b[0m \u001b[0malter\u001b[0m\u001b[0;34m.\u001b[0m\u001b[0mencode\u001b[0m\u001b[0;34m(\u001b[0m\u001b[0;34m'utf-8'\u001b[0m\u001b[0;34m)\u001b[0m\u001b[0;34m\u001b[0m\u001b[0m\n\u001b[0m\u001b[1;32m      8\u001b[0m         \u001b[0;32mprint\u001b[0m \u001b[0;34m\"end\"\u001b[0m\u001b[0;34m\u001b[0m\u001b[0m\n\u001b[1;32m      9\u001b[0m         \u001b[0mtemp1a\u001b[0m \u001b[0;34m=\u001b[0m \u001b[0malter\u001b[0m\u001b[0;34m\u001b[0m\u001b[0m\n",
      "\u001b[0;31mAttributeError\u001b[0m: 'int' object has no attribute 'encode'"
     ]
    }
   ],
   "source": [
    "hinsi(\"./resultmecab/test.txt/0001.dat\")"
   ]
  },
  {
   "cell_type": "code",
   "execution_count": 11,
   "metadata": {
    "collapsed": false
   },
   "outputs": [
    {
     "name": "stdout",
     "output_type": "stream",
     "text": [
      "sys.stdout.encoding: UTF-8\n",
      "(0, '\\xe5\\x90\\x8d\\xe8\\xa9\\x9e\\n\\xe5\\x8a\\xa9\\xe8\\xa9\\x9e\\n\\xe5\\x90\\x8d\\xe8\\xa9\\x9e\\n\\xe5\\x90\\x8d\\xe8\\xa9\\x9e\\n\\xe5\\x90\\x8d\\xe8\\xa9\\x9e\\n\\xe5\\x90\\x8d\\xe8\\xa9\\x9e\\n\\xe5\\x8a\\xa9\\xe8\\xa9\\x9e\\n')\n"
     ]
    }
   ],
   "source": [
    "import codecs\n",
    "f = codecs.open(\"./test1.dat\", \"r\", \"utf-8\")\n",
    "sys.stdout = codecs.getwriter('utf-8')(sys.stdout)\n",
    "print 'sys.stdout.encoding:', sys.stdout.encoding\n",
    "for a in f:\n",
    "    print a"
   ]
  },
  {
   "cell_type": "code",
   "execution_count": null,
   "metadata": {
    "collapsed": true
   },
   "outputs": [],
   "source": []
  }
 ],
 "metadata": {
  "kernelspec": {
   "display_name": "Python 2",
   "language": "python",
   "name": "python2"
  },
  "language_info": {
   "codemirror_mode": {
    "name": "ipython",
    "version": 2
   },
   "file_extension": ".py",
   "mimetype": "text/x-python",
   "name": "python",
   "nbconvert_exporter": "python",
   "pygments_lexer": "ipython2",
   "version": "2.7.9"
  }
 },
 "nbformat": 4,
 "nbformat_minor": 0
}
