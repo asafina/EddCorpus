{
 "cells": [
  {
   "cell_type": "code",
   "execution_count": 16,
   "metadata": {
    "collapsed": false
   },
   "outputs": [],
   "source": [
    "import numpy as np\n",
    "np.random.seed(13)\n",
    "\n",
    "from IPython.display import SVG\n",
    "from keras.models import Sequential\n",
    "from keras.layers import Dense, Embedding, Lambda\n",
    "from keras.utils.data_utils import get_file\n",
    "from keras.utils import np_utils\n",
    "from keras.utils.visualize_util import model_to_dot, plot\n",
    "from keras.preprocessing import sequence\n",
    "from keras.preprocessing.text import Tokenizer, base_filter\n",
    "from gensim.models.doc2vec import Word2Vec\n",
    "\n",
    "### k.mean( )で必要になるので追加\n",
    "from keras import backend as K"
   ]
  },
  {
   "cell_type": "code",
   "execution_count": 18,
   "metadata": {
    "collapsed": false
   },
   "outputs": [],
   "source": [
    "base_filter()\n",
    "path = './alice.txt'\n",
    "corpus = open(path).readlines()[0:5]\n",
    "\n",
    "### new line more than 2 を削除\n",
    "corpus = [sentence for sentence in corpus if sentence.count(\" \") >= 2]\n",
    "\n",
    "### base_filter に ' を追加\n",
    "tokenizer = Tokenizer(filters=base_filter()+\"'\")\n",
    "\n",
    "### corpus を整形\n",
    "tokenizer.fit_on_texts(corpus)\n",
    "\n",
    "### corpus の型を sequence に変更（file 出力できなかった）\n",
    "corpus = tokenizer.texts_to_sequences(corpus)\n",
    "\n",
    "### sequence の合計を nb_samples に代入\n",
    "nb_samples = sum(len(s) for s in corpus)\n",
    "\n",
    "### 語彙数を数える\n",
    "V = len(tokenizer.word_index) + 1\n",
    "\n",
    "### 多分、特徴ベクトルの次元数\n",
    "dim = 100\n",
    "\n",
    "### 文脈窓\n",
    "window_size = 2"
   ]
  },
  {
   "cell_type": "code",
   "execution_count": 19,
   "metadata": {
    "collapsed": false
   },
   "outputs": [],
   "source": [
    "### CBOW の定義\n",
    "def generate_data(corpus, window_size, V):\n",
    "    maxlen = window_size*2\n",
    "    \n",
    "    ### コーパス内の単語数だけ繰り返す\n",
    "    for words in corpus:\n",
    "        \n",
    "        ### リストを生成\n",
    "        contexts = []\n",
    "        labels   = []\n",
    "        L = len(words)\n",
    "        \n",
    "        print \"words: \", words\n",
    "        print ;\n",
    "        print ;\n",
    "        \n",
    "        ### \n",
    "        for index, word in enumerate(words):\n",
    "            s = index-window_size\n",
    "            e = index+window_size+1\n",
    "            \n",
    "            contexts.append([words[i] for i in range(s, e) if 0 <= i < L and i != index])\n",
    "            \n",
    "            \n",
    "            ### contexts は文脈窓範囲内の単語の ID が格納されたリスト\n",
    "            \"\"\"\n",
    "            print \"context: \", contexts[index]\n",
    "            print ;\n",
    "            print ;\n",
    "            \"\"\"\n",
    "            \n",
    "            labels.append(word)\n",
    "            \n",
    "            ### x はシーケンス型\n",
    "            x = sequence.pad_sequences(contexts, maxlen=maxlen)\n",
    "            \n",
    "            ### 1 of K 表現に変換\n",
    "            ### y は？\n",
    "            y = np_utils.to_categorical(labels, V)\n",
    "\n",
    "            yield (x, y)"
   ]
  },
  {
   "cell_type": "code",
   "execution_count": 20,
   "metadata": {
    "collapsed": false
   },
   "outputs": [
    {
     "data": {
      "image/svg+xml": [
       "<svg height=\"304pt\" viewBox=\"0.00 0.00 330.00 304.00\" width=\"330pt\" xmlns=\"http://www.w3.org/2000/svg\" xmlns:xlink=\"http://www.w3.org/1999/xlink\">\n",
       "<g class=\"graph\" id=\"graph0\" transform=\"scale(1 1) rotate(0) translate(4 300)\">\n",
       "<title>G</title>\n",
       "<polygon fill=\"white\" points=\"-4,4 -4,-300 326,-300 326,4 -4,4\" stroke=\"none\"/>\n",
       "<!-- 140468753240848 -->\n",
       "<g class=\"node\" id=\"node1\"><title>140468753240848</title>\n",
       "<polygon fill=\"none\" points=\"0,-249.5 0,-295.5 322,-295.5 322,-249.5 0,-249.5\" stroke=\"black\"/>\n",
       "<text font-family=\"Times,serif\" font-size=\"14.00\" text-anchor=\"middle\" x=\"99\" y=\"-268.8\">embedding_input_2 (InputLayer)</text>\n",
       "<polyline fill=\"none\" points=\"198,-249.5 198,-295.5 \" stroke=\"black\"/>\n",
       "<text font-family=\"Times,serif\" font-size=\"14.00\" text-anchor=\"middle\" x=\"225.5\" y=\"-280.3\">input:</text>\n",
       "<polyline fill=\"none\" points=\"198,-272.5 253,-272.5 \" stroke=\"black\"/>\n",
       "<text font-family=\"Times,serif\" font-size=\"14.00\" text-anchor=\"middle\" x=\"225.5\" y=\"-257.3\">output:</text>\n",
       "<polyline fill=\"none\" points=\"253,-249.5 253,-295.5 \" stroke=\"black\"/>\n",
       "<text font-family=\"Times,serif\" font-size=\"14.00\" text-anchor=\"middle\" x=\"287.5\" y=\"-280.3\">(None, 4)</text>\n",
       "<polyline fill=\"none\" points=\"253,-272.5 322,-272.5 \" stroke=\"black\"/>\n",
       "<text font-family=\"Times,serif\" font-size=\"14.00\" text-anchor=\"middle\" x=\"287.5\" y=\"-257.3\">(None, 4)</text>\n",
       "</g>\n",
       "<!-- 140468753241488 -->\n",
       "<g class=\"node\" id=\"node2\"><title>140468753241488</title>\n",
       "<polygon fill=\"none\" points=\"1.5,-166.5 1.5,-212.5 320.5,-212.5 320.5,-166.5 1.5,-166.5\" stroke=\"black\"/>\n",
       "<text font-family=\"Times,serif\" font-size=\"14.00\" text-anchor=\"middle\" x=\"85\" y=\"-185.8\">embedding_2 (Embedding)</text>\n",
       "<polyline fill=\"none\" points=\"168.5,-166.5 168.5,-212.5 \" stroke=\"black\"/>\n",
       "<text font-family=\"Times,serif\" font-size=\"14.00\" text-anchor=\"middle\" x=\"196\" y=\"-197.3\">input:</text>\n",
       "<polyline fill=\"none\" points=\"168.5,-189.5 223.5,-189.5 \" stroke=\"black\"/>\n",
       "<text font-family=\"Times,serif\" font-size=\"14.00\" text-anchor=\"middle\" x=\"196\" y=\"-174.3\">output:</text>\n",
       "<polyline fill=\"none\" points=\"223.5,-166.5 223.5,-212.5 \" stroke=\"black\"/>\n",
       "<text font-family=\"Times,serif\" font-size=\"14.00\" text-anchor=\"middle\" x=\"272\" y=\"-197.3\">(None, 4)</text>\n",
       "<polyline fill=\"none\" points=\"223.5,-189.5 320.5,-189.5 \" stroke=\"black\"/>\n",
       "<text font-family=\"Times,serif\" font-size=\"14.00\" text-anchor=\"middle\" x=\"272\" y=\"-174.3\">(None, 4, 100)</text>\n",
       "</g>\n",
       "<!-- 140468753240848&#45;&gt;140468753241488 -->\n",
       "<g class=\"edge\" id=\"edge1\"><title>140468753240848-&gt;140468753241488</title>\n",
       "<path d=\"M161,-249.366C161,-241.152 161,-231.658 161,-222.725\" fill=\"none\" stroke=\"black\"/>\n",
       "<polygon fill=\"black\" points=\"164.5,-222.607 161,-212.607 157.5,-222.607 164.5,-222.607\" stroke=\"black\"/>\n",
       "</g>\n",
       "<!-- 140468753241680 -->\n",
       "<g class=\"node\" id=\"node3\"><title>140468753241680</title>\n",
       "<polygon fill=\"none\" points=\"21,-83.5 21,-129.5 301,-129.5 301,-83.5 21,-83.5\" stroke=\"black\"/>\n",
       "<text font-family=\"Times,serif\" font-size=\"14.00\" text-anchor=\"middle\" x=\"85\" y=\"-102.8\">lambda_2 (Lambda)</text>\n",
       "<polyline fill=\"none\" points=\"149,-83.5 149,-129.5 \" stroke=\"black\"/>\n",
       "<text font-family=\"Times,serif\" font-size=\"14.00\" text-anchor=\"middle\" x=\"176.5\" y=\"-114.3\">input:</text>\n",
       "<polyline fill=\"none\" points=\"149,-106.5 204,-106.5 \" stroke=\"black\"/>\n",
       "<text font-family=\"Times,serif\" font-size=\"14.00\" text-anchor=\"middle\" x=\"176.5\" y=\"-91.3\">output:</text>\n",
       "<polyline fill=\"none\" points=\"204,-83.5 204,-129.5 \" stroke=\"black\"/>\n",
       "<text font-family=\"Times,serif\" font-size=\"14.00\" text-anchor=\"middle\" x=\"252.5\" y=\"-114.3\">(None, 4, 100)</text>\n",
       "<polyline fill=\"none\" points=\"204,-106.5 301,-106.5 \" stroke=\"black\"/>\n",
       "<text font-family=\"Times,serif\" font-size=\"14.00\" text-anchor=\"middle\" x=\"252.5\" y=\"-91.3\">(None, 100)</text>\n",
       "</g>\n",
       "<!-- 140468753241488&#45;&gt;140468753241680 -->\n",
       "<g class=\"edge\" id=\"edge2\"><title>140468753241488-&gt;140468753241680</title>\n",
       "<path d=\"M161,-166.366C161,-158.152 161,-148.658 161,-139.725\" fill=\"none\" stroke=\"black\"/>\n",
       "<polygon fill=\"black\" points=\"164.5,-139.607 161,-129.607 157.5,-139.607 164.5,-139.607\" stroke=\"black\"/>\n",
       "</g>\n",
       "<!-- 140468876633168 -->\n",
       "<g class=\"node\" id=\"node4\"><title>140468876633168</title>\n",
       "<polygon fill=\"none\" points=\"38.5,-0.5 38.5,-46.5 283.5,-46.5 283.5,-0.5 38.5,-0.5\" stroke=\"black\"/>\n",
       "<text font-family=\"Times,serif\" font-size=\"14.00\" text-anchor=\"middle\" x=\"92\" y=\"-19.8\">dense_2 (Dense)</text>\n",
       "<polyline fill=\"none\" points=\"145.5,-0.5 145.5,-46.5 \" stroke=\"black\"/>\n",
       "<text font-family=\"Times,serif\" font-size=\"14.00\" text-anchor=\"middle\" x=\"173\" y=\"-31.3\">input:</text>\n",
       "<polyline fill=\"none\" points=\"145.5,-23.5 200.5,-23.5 \" stroke=\"black\"/>\n",
       "<text font-family=\"Times,serif\" font-size=\"14.00\" text-anchor=\"middle\" x=\"173\" y=\"-8.3\">output:</text>\n",
       "<polyline fill=\"none\" points=\"200.5,-0.5 200.5,-46.5 \" stroke=\"black\"/>\n",
       "<text font-family=\"Times,serif\" font-size=\"14.00\" text-anchor=\"middle\" x=\"242\" y=\"-31.3\">(None, 100)</text>\n",
       "<polyline fill=\"none\" points=\"200.5,-23.5 283.5,-23.5 \" stroke=\"black\"/>\n",
       "<text font-family=\"Times,serif\" font-size=\"14.00\" text-anchor=\"middle\" x=\"242\" y=\"-8.3\">(None, 40)</text>\n",
       "</g>\n",
       "<!-- 140468753241680&#45;&gt;140468876633168 -->\n",
       "<g class=\"edge\" id=\"edge3\"><title>140468753241680-&gt;140468876633168</title>\n",
       "<path d=\"M161,-83.3664C161,-75.1516 161,-65.6579 161,-56.7252\" fill=\"none\" stroke=\"black\"/>\n",
       "<polygon fill=\"black\" points=\"164.5,-56.6068 161,-46.6068 157.5,-56.6069 164.5,-56.6068\" stroke=\"black\"/>\n",
       "</g>\n",
       "</g>\n",
       "</svg>"
      ],
      "text/plain": [
       "<IPython.core.display.SVG object>"
      ]
     },
     "execution_count": 20,
     "metadata": {},
     "output_type": "execute_result"
    }
   ],
   "source": [
    "### ネットワーク構造をシーケンシャルに\n",
    "cbow = Sequential()\n",
    "\n",
    "### 入力層は Embeddding で固定次元に変換\n",
    "cbow.add(Embedding(input_dim=V, output_dim=dim, init='glorot_uniform',input_length=window_size*2))\n",
    "\n",
    "### 入力層の出力を、dim 次元ベクトルの平均値にする\n",
    "cbow.add(Lambda(lambda x: K.mean(x, axis=1), output_shape=(dim,)))\n",
    "\n",
    "### dim 次元に変換された 4 つの単語を入力とする第二層\n",
    "cbow.add(Dense(V, init='glorot_uniform', activation='softmax'))\n",
    "\n",
    "###  スケーラブル・ベクター・グラフィックを生成、表示\n",
    "SVG(model_to_dot(cbow, show_shapes=True).create(prog='dot', format='svg'))"
   ]
  },
  {
   "cell_type": "code",
   "execution_count": 21,
   "metadata": {
    "collapsed": true
   },
   "outputs": [],
   "source": [
    "### 学習過程の確認\n",
    "cbow.compile(loss='categorical_crossentropy', optimizer=\"adadelta\")"
   ]
  },
  {
   "cell_type": "code",
   "execution_count": 22,
   "metadata": {
    "collapsed": false
   },
   "outputs": [
    {
     "name": "stdout",
     "output_type": "stream",
     "text": [
      "words:  [7, 5, 8, 15, 8, 37, 18, 19, 33, 12, 14]\n",
      "\n",
      "\n",
      "words:  [36, 29, 13, 20, 2, 3, 6, 22, 38, 17, 4, 16, 9, 32]\n",
      "\n",
      "\n",
      "words:  [11, 4, 34, 24, 26, 28, 31, 1, 10, 1, 21, 39]\n",
      "\n",
      "\n",
      "words:  [23, 3, 1, 25, 2, 27, 6, 2, 7, 5, 35, 30]\n",
      "\n",
      "\n",
      "(0, 180.11504149436951)\n",
      "words:  [7, 5, 8, 15, 8, 37, 18, 19, 33, 12, 14]\n",
      "\n",
      "\n",
      "words:  [36, 29, 13, 20, 2, 3, 6, 22, 38, 17, 4, 16, 9, 32]\n",
      "\n",
      "\n",
      "words:  [11, 4, 34, 24, 26, 28, 31, 1, 10, 1, 21, 39]\n",
      "\n",
      "\n",
      "words:  [23, 3, 1, 25, 2, 27, 6, 2, 7, 5, 35, 30]\n",
      "\n",
      "\n",
      "(1, 177.11590719223022)\n",
      "words:  [7, 5, 8, 15, 8, 37, 18, 19, 33, 12, 14]\n",
      "\n",
      "\n",
      "words:  [36, 29, 13, 20, 2, 3, 6, 22, 38, 17, 4, 16, 9, 32]\n",
      "\n",
      "\n",
      "words:  [11, 4, 34, 24, 26, 28, 31, 1, 10, 1, 21, 39]\n",
      "\n",
      "\n",
      "words:  [23, 3, 1, 25, 2, 27, 6, 2, 7, 5, 35, 30]\n",
      "\n",
      "\n",
      "(2, 174.54928708076477)\n",
      "words:  [7, 5, 8, 15, 8, 37, 18, 19, 33, 12, 14]\n",
      "\n",
      "\n",
      "words:  [36, 29, 13, 20, 2, 3, 6, 22, 38, 17, 4, 16, 9, 32]\n",
      "\n",
      "\n",
      "words:  [11, 4, 34, 24, 26, 28, 31, 1, 10, 1, 21, 39]\n",
      "\n",
      "\n",
      "words:  [23, 3, 1, 25, 2, 27, 6, 2, 7, 5, 35, 30]\n",
      "\n",
      "\n",
      "(3, 172.15588569641113)\n",
      "words:  [7, 5, 8, 15, 8, 37, 18, 19, 33, 12, 14]\n",
      "\n",
      "\n",
      "words:  [36, 29, 13, 20, 2, 3, 6, 22, 38, 17, 4, 16, 9, 32]\n",
      "\n",
      "\n",
      "words:  [11, 4, 34, 24, 26, 28, 31, 1, 10, 1, 21, 39]\n",
      "\n",
      "\n",
      "words:  [23, 3, 1, 25, 2, 27, 6, 2, 7, 5, 35, 30]\n",
      "\n",
      "\n",
      "(4, 169.84258008003235)\n",
      "words:  [7, 5, 8, 15, 8, 37, 18, 19, 33, 12, 14]\n",
      "\n",
      "\n",
      "words:  [36, 29, 13, 20, 2, 3, 6, 22, 38, 17, 4, 16, 9, 32]\n",
      "\n",
      "\n",
      "words:  [11, 4, 34, 24, 26, 28, 31, 1, 10, 1, 21, 39]\n",
      "\n",
      "\n",
      "words:  [23, 3, 1, 25, 2, 27, 6, 2, 7, 5, 35, 30]\n",
      "\n",
      "\n",
      "(5, 167.55929255485535)\n",
      "words:  [7, 5, 8, 15, 8, 37, 18, 19, 33, 12, 14]\n",
      "\n",
      "\n",
      "words:  [36, 29, 13, 20, 2, 3, 6, 22, 38, 17, 4, 16, 9, 32]\n",
      "\n",
      "\n",
      "words:  [11, 4, 34, 24, 26, 28, 31, 1, 10, 1, 21, 39]\n",
      "\n",
      "\n",
      "words:  [23, 3, 1, 25, 2, 27, 6, 2, 7, 5, 35, 30]\n",
      "\n",
      "\n",
      "(6, 165.27791881561279)\n",
      "words:  [7, 5, 8, 15, 8, 37, 18, 19, 33, 12, 14]\n",
      "\n",
      "\n",
      "words:  [36, 29, 13, 20, 2, 3, 6, 22, 38, 17, 4, 16, 9, 32]\n",
      "\n",
      "\n",
      "words:  [11, 4, 34, 24, 26, 28, 31, 1, 10, 1, 21, 39]\n",
      "\n",
      "\n",
      "words:  [23, 3, 1, 25, 2, 27, 6, 2, 7, 5, 35, 30]\n",
      "\n",
      "\n",
      "(7, 162.9818708896637)\n",
      "words:  [7, 5, 8, 15, 8, 37, 18, 19, 33, 12, 14]\n",
      "\n",
      "\n",
      "words:  [36, 29, 13, 20, 2, 3, 6, 22, 38, 17, 4, 16, 9, 32]\n",
      "\n",
      "\n",
      "words:  [11, 4, 34, 24, 26, 28, 31, 1, 10, 1, 21, 39]\n",
      "\n",
      "\n",
      "words:  [23, 3, 1, 25, 2, 27, 6, 2, 7, 5, 35, 30]\n",
      "\n",
      "\n",
      "(8, 160.66077923774719)\n",
      "words:  [7, 5, 8, 15, 8, 37, 18, 19, 33, 12, 14]\n",
      "\n",
      "\n",
      "words:  [36, 29, 13, 20, 2, 3, 6, 22, 38, 17, 4, 16, 9, 32]\n",
      "\n",
      "\n",
      "words:  [11, 4, 34, 24, 26, 28, 31, 1, 10, 1, 21, 39]\n",
      "\n",
      "\n",
      "words:  [23, 3, 1, 25, 2, 27, 6, 2, 7, 5, 35, 30]\n",
      "\n",
      "\n",
      "(9, 158.30794835090637)\n"
     ]
    }
   ],
   "source": [
    "### 学習開始\n",
    "for ite in range(10):\n",
    "    loss = 0.\n",
    "    for x, y in generate_data(corpus, window_size, V):\n",
    "        loss += cbow.train_on_batch(x, y)\n",
    "    print(ite, loss)"
   ]
  },
  {
   "cell_type": "code",
   "execution_count": 23,
   "metadata": {
    "collapsed": false
   },
   "outputs": [],
   "source": [
    "### 書き込み用ファイルを生成\n",
    "f = open(\"vectors.txt\", \"w\")\n",
    "\n",
    "### 語彙数と特徴ベクトルの次元数を書き込む\n",
    "f.write( \" \".join([str(V-1), str(dim)]) )\n",
    "f.write(\"\\n\")"
   ]
  },
  {
   "cell_type": "code",
   "execution_count": 24,
   "metadata": {
    "collapsed": true
   },
   "outputs": [],
   "source": [
    "vectors = cbow.get_weights()[0]\n",
    "\n",
    "### 学習で得られた単語の特徴ベクトルを書き込む\n",
    "for word, i in tokenizer.word_index.items():\n",
    "    f.write(word)\n",
    "    f.write(\" \")\n",
    "    f.write(\" \".join(map(str, list(vectors[i,:]))))\n",
    "    f.write(\"\\n\")\n",
    "f.close()"
   ]
  },
  {
   "cell_type": "code",
   "execution_count": 25,
   "metadata": {
    "collapsed": true
   },
   "outputs": [],
   "source": [
    "w2v = Word2Vec.load_word2vec_format('./vectors.txt', binary=False)"
   ]
  },
  {
   "cell_type": "code",
   "execution_count": 26,
   "metadata": {
    "collapsed": false
   },
   "outputs": [
    {
     "data": {
      "text/plain": [
       "[(u'anywhere', 0.24575386941432953),\n",
       " (u'project', 0.14913886785507202),\n",
       " (u'adventures', 0.13993321359157562),\n",
       " (u'anyone', 0.1208343505859375),\n",
       " (u'included', 0.1158161386847496),\n",
       " (u'use', 0.10622011125087738),\n",
       " (u'carroll', 0.10004357248544693),\n",
       " (u'of', 0.09992651641368866),\n",
       " (u'gutenberg', 0.060956358909606934),\n",
       " (u'with', 0.0600891076028347)]"
      ]
     },
     "execution_count": 26,
     "metadata": {},
     "output_type": "execute_result"
    }
   ],
   "source": [
    "w2v.most_similar(positive=['alice'])"
   ]
  },
  {
   "cell_type": "code",
   "execution_count": null,
   "metadata": {
    "collapsed": true
   },
   "outputs": [],
   "source": []
  }
 ],
 "metadata": {
  "kernelspec": {
   "display_name": "Python 2",
   "language": "python",
   "name": "python2"
  },
  "language_info": {
   "codemirror_mode": {
    "name": "ipython",
    "version": 2
   },
   "file_extension": ".py",
   "mimetype": "text/x-python",
   "name": "python",
   "nbconvert_exporter": "python",
   "pygments_lexer": "ipython2",
   "version": "2.7.9"
  }
 },
 "nbformat": 4,
 "nbformat_minor": 0
}
