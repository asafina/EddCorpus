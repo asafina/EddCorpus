{
 "cells": [
  {
   "cell_type": "code",
   "execution_count": 2,
   "metadata": {
    "collapsed": true
   },
   "outputs": [],
   "source": [
    "# -*- coding: utf-8 -*-\n",
    "import sys\n",
    "import commands as cmd\n",
    "import MeCab \n",
    "import numpy as np\n",
    "\n",
    "np.set_printoptions(threshold=np.inf)\n",
    "\n",
    "m = MeCab.Tagger()\n",
    "o = MeCab.Tagger(\"-Owakati\")"
   ]
  },
  {
   "cell_type": "code",
   "execution_count": null,
   "metadata": {
    "collapsed": true
   },
   "outputs": [],
   "source": [
    "def checkhinsi(line, wIDn, wordsn, phrasen):\n",
    "    print \"-**************************************\"\n",
    "    print \"line: \" + line\n",
    "    \n",
    "    ### pline: mecab による解析結果が入った str 型\n",
    "    pline = (m.parse(line))\n",
    "    ### pline2: 単語の解析結果を要素にもつ list 型に\n",
    "    pline2 = pline.split(\"\\n\")\n",
    "    ### wakati: mecab による分かち書き形式に変換したline. str 型\n",
    "    wakati = o.parse(line)\n",
    "    ### words: line を単語要素とした list 型\n",
    "    words = wakati.split(\" \")\n",
    "    \n",
    "    print \"num of words: \",\n",
    "    print len(words) - 1\n",
    "    \n",
    "    ### phrase 自立語と付属語をそれぞれ 1, 0 として line を表現\n",
    "    phrase = []\n",
    "    \n",
    "    ### wID: 読み込んだ corpus での word が何列目に存在するかを格納したもの、 list型\n",
    "    wID = []\n",
    "    \n",
    "    for i in range(0,len(words)-1):\n",
    "        if \"名詞\" in pline2[i]:\n",
    "            phrase.append(\"1\")\n",
    "            wID.append( searchwordID(words[i], \"名詞\") )\n",
    "        elif \"動詞\" in pline2[i]:\n",
    "            phrase.append(\"1\")\n",
    "            wID.append( searchwordID(words[i], \"動詞\") )\n",
    "        elif \"形容詞\" in pline2[i]:\n",
    "            phrase.append(\"1\")\n",
    "            wID.append( searchwordID(words[i], \"形容詞\") )\n",
    "        elif \"副詞\" in pline2[i]:\n",
    "            phrase.append(\"1\")\n",
    "            wID.append( searchwordID(words[i], \"副詞\") )\n",
    "        elif \"助詞\" in pline2[i]:\n",
    "            phrase.append(\"0\")\n",
    "            wID.append( searchwordID(words[i], \"助詞\") )\n",
    "        elif \"接続詞\" in pline2[i]:\n",
    "            phrase.append(\"1\")\n",
    "            wID.append( searchwordID(words[i], \"接続詞\") )\n",
    "        elif \"助動詞\" in pline2[i]:\n",
    "            phrase.append(\"0\")\n",
    "            wID.append( searchwordID(words[i], \"助動詞\") )\n",
    "        elif \"連体詞\" in pline2[i]:\n",
    "            phrase.append(\"1\")\n",
    "            wID.append( searchwordID(words[i], \"連体詞\") )\n",
    "        elif \"感動詞\" in pline2[i]:\n",
    "            phrase.append(\"1\")\n",
    "            wID.append( searchwordID(words[i], \"感動詞\") )\n",
    "        elif \"記号\" in pline2[i]:\n",
    "            phrase.append(\"1\")\n",
    "            wID.append( searchwordID(words[i], \"記号\") )\n",
    "        else:\n",
    "            print \"未知語: \" + words[i];\n",
    "            phrase.append(\"2\")\n",
    "            wID.append( 0 )\n",
    "        #elif \"\" in pline:\n",
    "        #    print \": \" + line\n",
    "        \n",
    "    print ;\n",
    "    print phrase;\n",
    "    print wID;\n",
    "    \n",
    "    split2phrase(words, phrase)\n",
    "    savedata(wID, wIDn , words, wordsn, phrase, phrasen)\n",
    "    \n",
    "    #temp = cmd.getstatusoutput(\"cat \" + pline + \"| awk '{print $2}' | sed -e 's/,.*//g'\" )"
   ]
  },
  {
   "cell_type": "code",
   "execution_count": null,
   "metadata": {
    "collapsed": true
   },
   "outputs": [],
   "source": [
    "def split2phrase(words, phrase):\n",
    "    frag = 0\n",
    "    for i in range(0, len(words)-1):\n",
    "        if (phrase[i] == \"1\"):\n",
    "            print \"/\" + words[i],\n",
    "        elif (phrase[i] == \"0\"):\n",
    "            print words[i],\n",
    "        elif (phrase[i] == \"2\"):\n",
    "            print \"/\" + words[i],\n",
    "            frag = 1\n",
    "    \n",
    "    print ;\n",
    "    print ;\n",
    "    if (frag == 1):\n",
    "        print \"未知語が含まれています\""
   ]
  },
  {
   "cell_type": "code",
   "execution_count": null,
   "metadata": {
    "collapsed": true
   },
   "outputs": [],
   "source": [
    "def conv2wakati(line):\n",
    "    ### wakati: mecab による分かち書き形式に変換したline. str 型\n",
    "    wakati = o.parse(line)\n",
    "    return wakati"
   ]
  },
  {
   "cell_type": "code",
   "execution_count": null,
   "metadata": {
    "collapsed": true
   },
   "outputs": [],
   "source": [
    "def getcorpus():\n",
    "    c = []\n",
    "    f = open(\"/local/home/hina/gitrepos/EddCorpus/Dazai_Osamu/wakati/mecab/Dazai_Osamu.corpus.uniq.org\", \"r\")\n",
    "    flen = len( f.readlines() )\n",
    "    f.close()\n",
    "    f = open(\"/local/home/hina/gitrepos/EddCorpus/Dazai_Osamu/wakati/mecab/Dazai_Osamu.corpus.uniq.org\", \"r\")\n",
    "    for i in range(1, flen):\n",
    "        a = f.readline()\n",
    "        b = a.split(\" \")\n",
    "        while b.count('') > 0:\n",
    "            b.remove('')\n",
    "        c.append(b)\n",
    "    f.close()\n",
    "    return c"
   ]
  },
  {
   "cell_type": "code",
   "execution_count": null,
   "metadata": {
    "collapsed": true
   },
   "outputs": [],
   "source": [
    "def searchwordID(word, hinnsi):\n",
    "    corpus = getcorpus()\n",
    "    lines = len(corpus)\n",
    "    wtmp = word.decode(\"utf-8\")\n",
    "    htmp = hinnsi.decode(\"utf-8\")\n",
    "    count = 1\n",
    "    flag = False\n",
    "    for line in corpus:\n",
    "        for a in line:\n",
    "            atmp = a.decode(\"utf-8\")\n",
    "            if atmp.startswith(wtmp):\n",
    "                if atmp.find(htmp):\n",
    "                    return count\n",
    "                    flag = True\n",
    "                    break\n",
    "        if flag:\n",
    "            break\n",
    "        count += 1"
   ]
  },
  {
   "cell_type": "code",
   "execution_count": null,
   "metadata": {
    "collapsed": true
   },
   "outputs": [],
   "source": [
    "def savedata(wID, wIDn , words, wordsn, phrase, phrasen):\n",
    "    f1 = open(wIDn, \"a\")\n",
    "    f2 = open(wordsn, \"a\")\n",
    "    f3 = open(phrasen, \"a\")\n",
    "    \n",
    "    f1.write( str(wID) )\n",
    "    f1.write(\"\\n\")\n",
    "    f2.write( str(words) )\n",
    "    f2.write(\"\\n\")\n",
    "    f3.write( str(phrase) )\n",
    "    f3.write(\"\\n\")\n",
    "    \n",
    "    f1.close()\n",
    "    f2.close()\n",
    "    f3.close()"
   ]
  },
  {
   "cell_type": "code",
   "execution_count": null,
   "metadata": {
    "collapsed": true
   },
   "outputs": [],
   "source": [
    "def do(fname, wIDn, wordsn, phrasen):\n",
    "    f = open(fname, \"r\")\n",
    "    flen = len( f.readlines() )\n",
    "    f.close()\n",
    "    f = open(fname, \"r\")\n",
    "    \n",
    "    for i in range(0,flen):\n",
    "        line = f.readline()\n",
    "        if (len(line) >= 2):\n",
    "            checkhinsi(line, wIDn, wordsn, phrasen)\n",
    "    f.close()"
   ]
  },
  {
   "cell_type": "code",
   "execution_count": null,
   "metadata": {
    "collapsed": true
   },
   "outputs": [],
   "source": [
    "def makewakati(fnamer, fnamew):\n",
    "    f = open(\"fnamer\", \"r\")\n",
    "    out = open(\"./wakati/fnamew\", \"w\")\n",
    "\n",
    "    for i in range(0,680):\n",
    "        line = f.readline()\n",
    "        if (len(line) >= 2):\n",
    "            temp = conv2wakati(line)\n",
    "            print i,\n",
    "            print temp;\n",
    "            out.write(temp)\n",
    "\n",
    "    ### close() をしないと書き込みが正常に終了しない！        \n",
    "    out.close()"
   ]
  },
  {
   "cell_type": "code",
   "execution_count": 3,
   "metadata": {
    "collapsed": true
   },
   "outputs": [],
   "source": [
    "def rmnewline(lst):\n",
    "    a = []\n",
    "    for x in lst:\n",
    "        tmp = x.strip()\n",
    "        tmp = tmp.strip(\"[\")\n",
    "        a.append( tmp.strip(\"]\") )\n",
    "    return a"
   ]
  },
  {
   "cell_type": "code",
   "execution_count": 4,
   "metadata": {
    "collapsed": true
   },
   "outputs": [],
   "source": [
    "def wIDproc(lst):\n",
    "    a = []\n",
    "    for x in lst:\n",
    "        b = x.split(\", \")\n",
    "        a.append(b)\n",
    "    return a"
   ]
  },
  {
   "cell_type": "code",
   "execution_count": 5,
   "metadata": {
    "collapsed": true
   },
   "outputs": [],
   "source": [
    "def phraseproc(lst):\n",
    "    c = []\n",
    "    ite = 0\n",
    "    for k in lst:\n",
    "        a = list(k)\n",
    "        b = []\n",
    "        for x in a:\n",
    "                if x == \"1\":\n",
    "                    b.append(\"1\")\n",
    "                elif x == \"0\":\n",
    "                    b.append(\"0\")\n",
    "        c.insert(ite, b)\n",
    "        ite += 1\n",
    "    return c"
   ]
  },
  {
   "cell_type": "code",
   "execution_count": 6,
   "metadata": {
    "collapsed": true
   },
   "outputs": [],
   "source": [
    "def readfile(fname, opt, typ):\n",
    "    flag = 0\n",
    "    if opt == \"lines\":\n",
    "        if typ == \"phrase\":\n",
    "            f = open(fname, \"r\")\n",
    "            a = createonehotvec(f.readlines(), 35854, typ)\n",
    "            f.close()\n",
    "            return a\n",
    "    \n",
    "        f = open(fname, \"r\")\n",
    "        a = createonehotvec(f.readlines(), 35854, typ)\n",
    "        f.close()\n",
    "        return a\n",
    "    \n",
    "    elif opt == \"line\":\n",
    "        f = open(fname, \"r\")\n",
    "        flen = len(f.readlines())\n",
    "        f.close()\n",
    "        f = open(fname, \"r\")\n",
    "        for i in range(1, flen):\n",
    "            if flag ==0:\n",
    "                a = f.readline()\n",
    "                b = createonehotvec(a, 35854, typ)\n",
    "                flag += 1\n",
    "            a = f.readline()\n",
    "            b.append( createonehotvec(a, 35854, typ) )\n",
    "        f.close()\n",
    "        return b"
   ]
  },
  {
   "cell_type": "code",
   "execution_count": 1,
   "metadata": {
    "collapsed": false
   },
   "outputs": [],
   "source": [
    "def test001():\n",
    "    a = []\n",
    "    a.append([64, 75])\n",
    "    a.append([25814, 20377])\n",
    "    print type(a)\n",
    "    print a\n",
    "    print type(a[0])\n",
    "\n",
    "\n",
    "    my_wID = readfile(\"/local/home/hina/gitrepos/EddCorpus/Dazai_Osamu/wakati/preproc/human_lost.txt.utf8.ped.wakati.wID\", \"lines\", \"wID\")\n",
    "    print my_wID\n",
    "    print my_wID[1][1]\n",
    "\n",
    "    b = []\n",
    "    b.append(\"1\")\n",
    "    b.append(\"12\")\n",
    "    print b"
   ]
  },
  {
   "cell_type": "code",
   "execution_count": 7,
   "metadata": {
    "collapsed": false
   },
   "outputs": [],
   "source": [
    "def splitwID2phrase(wID, phrase):\n",
    "    # c: 何文節目か\n",
    "    c = []\n",
    "    # d: 何行目か\n",
    "    d = []\n",
    "    i = 0\n",
    "    index = 0\n",
    "    while i < len(phrase):\n",
    "        b = []\n",
    "        c = []\n",
    "        flag = 0\n",
    "        ii = 0\n",
    "        index = 0\n",
    "        for x in phrase[i]:\n",
    "            if x == \"1\":\n",
    "                if flag == 0:\n",
    "                    b.append(wID[i][ii])\n",
    "                    ii += 1\n",
    "                    flag += 1\n",
    "                    continue\n",
    "                c.insert(index, b)\n",
    "                index += 1\n",
    "                b = []\n",
    "                b.append(wID[i][ii])\n",
    "                ii += 1\n",
    "            if x == \"0\":\n",
    "                b.append(wID[i][ii])\n",
    "                ii += 1\n",
    "            if x == \"2\":\n",
    "                b.append(\"0\")\n",
    "                ii += 1\n",
    "        \n",
    "        c.insert(index, b)\n",
    "        d.insert(i, c)\n",
    "        i += 1\n",
    "    return  d"
   ]
  },
  {
   "cell_type": "code",
   "execution_count": 8,
   "metadata": {
    "collapsed": true
   },
   "outputs": [],
   "source": [
    "def createonehotvec(lst, voc, typ):\n",
    "    #a = np.zeros( (1, voc) )\n",
    "    if typ == \"phrase\":\n",
    "        a = phraseproc(lst)\n",
    "        #a = rmnewline(a)\n",
    "        a = np.array(a)\n",
    "        return a\n",
    "    if typ == \"wID\":\n",
    "        a = rmnewline(lst)\n",
    "        a = wIDproc(a)\n",
    "        a = np.array(a)\n",
    "        return a"
   ]
  },
  {
   "cell_type": "code",
   "execution_count": 9,
   "metadata": {
    "collapsed": false
   },
   "outputs": [
    {
     "ename": "NameError",
     "evalue": "name 'onehotvec' is not defined",
     "output_type": "error",
     "traceback": [
      "\u001b[0;31m---------------------------------------------------------------------------\u001b[0m",
      "\u001b[0;31mNameError\u001b[0m                                 Traceback (most recent call last)",
      "\u001b[0;32m<ipython-input-9-105da02dd6d2>\u001b[0m in \u001b[0;36m<module>\u001b[0;34m()\u001b[0m\n\u001b[1;32m      7\u001b[0m     \u001b[0;32mreturn\u001b[0m \u001b[0ma\u001b[0m\u001b[0;34m\u001b[0m\u001b[0m\n\u001b[1;32m      8\u001b[0m \u001b[0mlst\u001b[0m \u001b[0;34m=\u001b[0m \u001b[0;34m[\u001b[0m\u001b[0;34m'1'\u001b[0m\u001b[0;34m,\u001b[0m \u001b[0;34m'3'\u001b[0m\u001b[0;34m]\u001b[0m\u001b[0;34m\u001b[0m\u001b[0m\n\u001b[0;32m----> 9\u001b[0;31m \u001b[0monehotvec\u001b[0m\u001b[0;34m(\u001b[0m\u001b[0mlst\u001b[0m\u001b[0;34m,\u001b[0m \u001b[0;36m5\u001b[0m\u001b[0;34m)\u001b[0m\u001b[0;34m\u001b[0m\u001b[0m\n\u001b[0m",
      "\u001b[0;31mNameError\u001b[0m: name 'onehotvec' is not defined"
     ]
    }
   ],
   "source": [
    "def onehotvec_bak(phrase, V):\n",
    "    a = np.zeros( (1, V) )\n",
    "    print a\n",
    "    for x in phrase:\n",
    "        print x\n",
    "        a[0][x] = '1.'\n",
    "    return a\n",
    "lst = ['1', '3']\n",
    "onehotvec(lst, 5)"
   ]
  },
  {
   "cell_type": "code",
   "execution_count": 84,
   "metadata": {
    "collapsed": false
   },
   "outputs": [
    {
     "name": "stdout",
     "output_type": "stream",
     "text": [
      "1\n",
      "x:  <type 'str'>\n",
      "3\n",
      "x:  <type 'str'>\n",
      "[[ 0.  1.  0.  1.  0.]]\n",
      "<type 'numpy.ndarray'>\n"
     ]
    },
    {
     "name": "stderr",
     "output_type": "stream",
     "text": [
      "/usr/local/lib/python2.7/dist-packages/ipykernel/__main__.py:15: VisibleDeprecationWarning: using a non-integer number instead of an integer will result in an error in the future\n"
     ]
    }
   ],
   "source": [
    "def onehotvec_bak2(phrase, V):\n",
    "    a = np.zeros( (1, V) )\n",
    "    for x in phrase:\n",
    "        print x\n",
    "        if len(x)>1:\n",
    "            for y in x:\n",
    "                xx = int(y)\n",
    "                print \"xx: \",\n",
    "                print type(xx),\n",
    "                print xx\n",
    "                a[0][xx] = '1'\n",
    "            continue\n",
    "        print \"x: \",\n",
    "        print type(x)\n",
    "        a[0][x] = '1'\n",
    "    return a\n",
    "lst = ['1', '3']\n",
    "a = onehotvec(lst, 5)\n",
    "print a\n",
    "print type(a)"
   ]
  },
  {
   "cell_type": "code",
   "execution_count": 13,
   "metadata": {
    "collapsed": false
   },
   "outputs": [
    {
     "name": "stdout",
     "output_type": "stream",
     "text": [
      "[0]\n",
      "a:  <type 'numpy.ndarray'> [[ 1.  0.  0.  0.  0.]]\n",
      "[1, 3]\n",
      "a:  <type 'numpy.ndarray'> [[ 0.  1.  0.  1.  0.]]\n",
      "[2, 4]\n",
      "a:  <type 'numpy.ndarray'> [[ 0.  0.  1.  0.  1.]]\n",
      "[[ 0.  0.  1.  0.  1.]]\n",
      "<type 'numpy.ndarray'>\n"
     ]
    }
   ],
   "source": [
    "def onehotvec(phrase, V):\n",
    "    for x in phrase:\n",
    "        a = np.zeros( (1, V) )\n",
    "        print x\n",
    "        if len(x)>1:\n",
    "            for y in x:\n",
    "                xx = int(y)\n",
    "                a[0][xx] = '1'\n",
    "            print \"a: \",\n",
    "            print type(a),\n",
    "            print a\n",
    "            continue\n",
    "        a[0][x] = '1'\n",
    "        print \"a: \",\n",
    "        print type(a),\n",
    "        print a\n",
    "    return a\n",
    "lst = [[0], [1, 3], [2, 4]]\n",
    "a = onehotvec(lst, 5)\n",
    "print a\n",
    "print type(a)"
   ]
  },
  {
   "cell_type": "code",
   "execution_count": 89,
   "metadata": {
    "collapsed": false
   },
   "outputs": [
    {
     "name": "stdout",
     "output_type": "stream",
     "text": [
      "1\n",
      "a:  <type 'numpy.ndarray'> [[ 0.  1.  0.  0.  0.]]\n",
      "3\n",
      "a:  <type 'numpy.ndarray'> [[ 0.  1.  0.  1.  0.]]\n",
      "[array([[ 0.,  1.,  0.,  1.,  0.]]), array([[ 0.,  1.,  0.,  1.,  0.]])]\n",
      "<type 'list'>\n"
     ]
    },
    {
     "name": "stderr",
     "output_type": "stream",
     "text": [
      "/usr/local/lib/python2.7/dist-packages/ipykernel/__main__.py:14: VisibleDeprecationWarning: using a non-integer number instead of an integer will result in an error in the future\n"
     ]
    }
   ],
   "source": [
    "def onehotvec(phrase, V):\n",
    "    b = []\n",
    "    a = np.zeros( (1, V) )\n",
    "    for x in phrase:\n",
    "        print x\n",
    "        if len(x)>1:\n",
    "            for y in x:\n",
    "                xx = int(y)\n",
    "                a[0][xx] = '1'\n",
    "            print \"a: \",\n",
    "            print type(a),\n",
    "            print a\n",
    "            continue\n",
    "        a[0][x] = '1'\n",
    "        print \"a: \",\n",
    "        print type(a),\n",
    "        print a\n",
    "        b.append(a)\n",
    "    return b\n",
    "lst = ['1', '3']\n",
    "a = onehotvec(lst, 5)\n",
    "print a\n",
    "print type(a)"
   ]
  },
  {
   "cell_type": "code",
   "execution_count": 75,
   "metadata": {
    "collapsed": false
   },
   "outputs": [
    {
     "name": "stdout",
     "output_type": "stream",
     "text": [
      "<type 'list'>\n",
      "[1, 12, 3]\n"
     ]
    },
    {
     "ename": "TypeError",
     "evalue": "'int' object is not iterable",
     "output_type": "error",
     "traceback": [
      "\u001b[0;31m---------------------------------------------------------------------------\u001b[0m",
      "\u001b[0;31mTypeError\u001b[0m                                 Traceback (most recent call last)",
      "\u001b[0;32m<ipython-input-75-49c1685c2cf4>\u001b[0m in \u001b[0;36m<module>\u001b[0;34m()\u001b[0m\n\u001b[1;32m      3\u001b[0m \u001b[0;32mprint\u001b[0m \u001b[0ma\u001b[0m\u001b[0;34m\u001b[0m\u001b[0m\n\u001b[1;32m      4\u001b[0m \u001b[0mi\u001b[0m \u001b[0;34m=\u001b[0m \u001b[0;36m0\u001b[0m\u001b[0;34m\u001b[0m\u001b[0m\n\u001b[0;32m----> 5\u001b[0;31m \u001b[0;32mfor\u001b[0m \u001b[0mx\u001b[0m \u001b[0;32min\u001b[0m \u001b[0mlen\u001b[0m\u001b[0;34m(\u001b[0m\u001b[0ma\u001b[0m\u001b[0;34m)\u001b[0m\u001b[0;34m:\u001b[0m\u001b[0;34m\u001b[0m\u001b[0m\n\u001b[0m\u001b[1;32m      6\u001b[0m     \u001b[0;32mprint\u001b[0m \u001b[0mx\u001b[0m\u001b[0;34m\u001b[0m\u001b[0m\n",
      "\u001b[0;31mTypeError\u001b[0m: 'int' object is not iterable"
     ]
    }
   ],
   "source": [
    "a = [1, 12, 3]\n",
    "print type(a)\n",
    "print a\n",
    "i = 0\n",
    "for x in len(a):\n",
    "    print x"
   ]
  },
  {
   "cell_type": "code",
   "execution_count": 1,
   "metadata": {
    "collapsed": false
   },
   "outputs": [
    {
     "ename": "SyntaxError",
     "evalue": "EOL while scanning string literal (<ipython-input-1-9328a76b1054>, line 41)",
     "output_type": "error",
     "traceback": [
      "\u001b[0;36m  File \u001b[0;32m\"<ipython-input-1-9328a76b1054>\"\u001b[0;36m, line \u001b[0;32m41\u001b[0m\n\u001b[0;31m    \"\"\"\"\u001b[0m\n\u001b[0m        \n^\u001b[0m\n\u001b[0;31mSyntaxError\u001b[0m\u001b[0;31m:\u001b[0m EOL while scanning string literal\n"
     ]
    }
   ],
   "source": [
    "# type(my_wID[1]): <type 'list'>\n",
    "my_wID = readfile(\"/local/home/hina/gitrepos/EddCorpus/Dazai_Osamu/wakati/preproc/human_lost.txt.utf8.ped.wakati.wID\", \"lines\", \"wID\")\n",
    "# type(my_phrase[1]): <type 'list'>\n",
    "my_phrase = readfile(\"/local/home/hina/gitrepos/EddCorpus/Dazai_Osamu/wakati/preproc/human_lost.txt.utf8.ped.wakati.phrase\", \"lines\", \"phrase\")\n",
    "#my_phrase = np.loadtxt(\\\"/local/home/hina/gitrepos/EddCorpus/Dazai_Osamu/wakati/preproc/human_lost.txt.utf8.ped.wakati.phrase\\\")\n",
    "\n",
    "print \"main: \"\n",
    "a = splitwID2phrase(my_wID, my_phrase)\n",
    "print \"wID: \"\n",
    "print my_wID\n",
    "print type(my_wID)\n",
    "print \"a: \"\n",
    "#print a\n",
    "print type(a)\n",
    "# a[何行目か][何文節目か][何単語目か]\n",
    "#print a[4][2][1]\n",
    "#print \"len: \",\n",
    "#print len(a[4][1][0:])\n",
    "\n",
    "for x in a:\n",
    "    print x\n",
    "    \n",
    "    \n",
    "def temp(phr):\n",
    "    print type(phr)\n",
    "    i = 0\n",
    "    for a in phr:\n",
    "        print ;\n",
    "        print i,\n",
    "        print \": \",\n",
    "        print a\n",
    "        b = onehotvec(a, 35865)\n",
    "        i += 1\n",
    "    \"\"\"\"\n",
    "    print \"b: \",\n",
    "    print type(b),\n",
    "    print b\n",
    "    f = open(\"/local/home/hina/gitrepos/EddCorpus/test0001.dat\", \"w\")\n",
    "    f.write( str(b) )\n",
    "    f.close()\n",
    "    \"\"\"\"\n",
    "temp(a)\n",
    "#onehotvec()"
   ]
  },
  {
   "cell_type": "code",
   "execution_count": null,
   "metadata": {
    "collapsed": true
   },
   "outputs": [],
   "source": []
  }
 ],
 "metadata": {
  "kernelspec": {
   "display_name": "Python 2",
   "language": "python",
   "name": "python2"
  },
  "language_info": {
   "codemirror_mode": {
    "name": "ipython",
    "version": 2
   },
   "file_extension": ".py",
   "mimetype": "text/x-python",
   "name": "python",
   "nbconvert_exporter": "python",
   "pygments_lexer": "ipython2",
   "version": "2.7.9"
  }
 },
 "nbformat": 4,
 "nbformat_minor": 0
}
