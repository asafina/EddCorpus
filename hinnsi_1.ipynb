{
 "cells": [
  {
   "cell_type": "code",
   "execution_count": 2,
   "metadata": {
    "collapsed": false
   },
   "outputs": [],
   "source": [
    "# -*- coding: utf-8 -*-\n",
    "\n",
    "import sys\n",
    "import commands as cmd\n",
    "import codecs"
   ]
  },
  {
   "cell_type": "code",
   "execution_count": 3,
   "metadata": {
    "collapsed": false
   },
   "outputs": [],
   "source": [
    "def hinsi(obj):\n",
    "    temp1 = cmd.getstatusoutput(\"cat \" + obj + \"| awk '{print $2}' | sed -e 's/,.*//g'\" )\n",
    "    for a in temp1:\n",
    "        print a\n",
    "    \n",
    "    temp2 = cmd.getstatusoutput(\"cat \" + obj + \"| awk '{print $1}'\")\n",
    "    for a in temp2:\n",
    "        print a\n",
    "    \n",
    "    f1 = open(\"./test1.dat\", \"w\")\n",
    "    f1.write(str(temp1))"
   ]
  },
  {
   "cell_type": "code",
   "execution_count": 58,
   "metadata": {
    "collapsed": false
   },
   "outputs": [],
   "source": [
    "open_file = open(\"./resultmecab/test.txt/0001.dat\", \"r\")\n",
    "\n",
    "for a in open_file:\n",
    "    print a"
   ]
  },
  {
   "cell_type": "code",
   "execution_count": 4,
   "metadata": {
    "collapsed": false
   },
   "outputs": [
    {
     "name": "stdout",
     "output_type": "stream",
     "text": [
      "0\n",
      "名詞\n",
      "助詞\n",
      "名詞\n",
      "名詞\n",
      "名詞\n",
      "名詞\n",
      "助詞\n",
      "\n",
      "0\n",
      "コーパス\n",
      "を\n",
      "品詞\n",
      "ラベル\n",
      "付き\n",
      "データ\n",
      "に\n",
      "EOS\n"
     ]
    }
   ],
   "source": [
    "hinsi(\"./resultmecab/test.txt/0001.dat\")"
   ]
  },
  {
   "cell_type": "code",
   "execution_count": 11,
   "metadata": {
    "collapsed": false
   },
   "outputs": [
    {
     "name": "stdout",
     "output_type": "stream",
     "text": [
      "sys.stdout.encoding: UTF-8\n",
      "(0, '\\xe5\\x90\\x8d\\xe8\\xa9\\x9e\\n\\xe5\\x8a\\xa9\\xe8\\xa9\\x9e\\n\\xe5\\x90\\x8d\\xe8\\xa9\\x9e\\n\\xe5\\x90\\x8d\\xe8\\xa9\\x9e\\n\\xe5\\x90\\x8d\\xe8\\xa9\\x9e\\n\\xe5\\x90\\x8d\\xe8\\xa9\\x9e\\n\\xe5\\x8a\\xa9\\xe8\\xa9\\x9e\\n')\n"
     ]
    }
   ],
   "source": [
    "import codecs\n",
    "f = codecs.open(\"./test1.dat\", \"r\", \"utf-8\")\n",
    "sys.stdout = codecs.getwriter('utf-8')(sys.stdout)\n",
    "print 'sys.stdout.encoding:', sys.stdout.encoding\n",
    "for a in f:\n",
    "    print a"
   ]
  },
  {
   "cell_type": "code",
   "execution_count": null,
   "metadata": {
    "collapsed": true
   },
   "outputs": [],
   "source": []
  }
 ],
 "metadata": {
  "kernelspec": {
   "display_name": "Python 2",
   "language": "python",
   "name": "python2"
  },
  "language_info": {
   "codemirror_mode": {
    "name": "ipython",
    "version": 2
   },
   "file_extension": ".py",
   "mimetype": "text/x-python",
   "name": "python",
   "nbconvert_exporter": "python",
   "pygments_lexer": "ipython2",
   "version": "2.7.9"
  }
 },
 "nbformat": 4,
 "nbformat_minor": 0
}
